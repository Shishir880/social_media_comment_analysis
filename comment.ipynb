{
 "cells": [
  {
   "cell_type": "code",
   "execution_count": 2,
   "metadata": {},
   "outputs": [
    {
     "name": "stdout",
     "output_type": "stream",
     "text": [
      "all lribary is load done...\n"
     ]
    }
   ],
   "source": [
    "import pandas as pd \n",
    "import numpy as np \n",
    "import seaborn as sns \n",
    "import matplotlib.pyplot as plt  \n",
    "print(\"all lribary is load done...\")"
   ]
  },
  {
   "cell_type": "code",
   "execution_count": 10,
   "metadata": {},
   "outputs": [],
   "source": [
    "import pandas as pd\n",
    "import glob\n",
    "\n",
    "# Define the folder path where your CSV files are located\n",
    "folder_path = \"C:\\\\Users\\\\SHISHIR-PC\\\\OneDrive\\\\Desktop\\\\SEO Rearch\\\\data\"\n",
    "\n",
    "# Use glob to find all CSV files in the folder\n",
    "csv_files = glob.glob(f\"{folder_path}/*.csv\")\n",
    "\n",
    "# List to store each DataFrame\n",
    "dataframes = []\n",
    "\n",
    "# Loop over each CSV file and read it into a DataFrame\n",
    "for file in csv_files:\n",
    "    df = pd.read_csv(file)\n",
    "    dataframes.append(df)  # Append each DataFrame to the list\n",
    "\n",
    "# Concatenate all DataFrames into a single DataFrame (optional)\n",
    "comment_data = pd.concat(dataframes, ignore_index=True)"
   ]
  },
  {
   "cell_type": "code",
   "execution_count": 13,
   "metadata": {},
   "outputs": [
    {
     "data": {
      "text/html": [
       "<div>\n",
       "<style scoped>\n",
       "    .dataframe tbody tr th:only-of-type {\n",
       "        vertical-align: middle;\n",
       "    }\n",
       "\n",
       "    .dataframe tbody tr th {\n",
       "        vertical-align: top;\n",
       "    }\n",
       "\n",
       "    .dataframe thead th {\n",
       "        text-align: right;\n",
       "    }\n",
       "</style>\n",
       "<table border=\"1\" class=\"dataframe\">\n",
       "  <thead>\n",
       "    <tr style=\"text-align: right;\">\n",
       "      <th></th>\n",
       "      <th>Id</th>\n",
       "      <th>UserId</th>\n",
       "      <th>Avatar</th>\n",
       "      <th>Author</th>\n",
       "      <th>Content</th>\n",
       "      <th>Url</th>\n",
       "      <th>ReactionsCount</th>\n",
       "      <th>Depth</th>\n",
       "      <th>SubCommentsCount</th>\n",
       "      <th>CommentAt</th>\n",
       "    </tr>\n",
       "  </thead>\n",
       "  <tbody>\n",
       "    <tr>\n",
       "      <th>0</th>\n",
       "      <td>Y29tbWVudDozOTU0NjQ4NjM0OTAzODJfODI4MDk1ODcyMD...</td>\n",
       "      <td>1.000797e+14</td>\n",
       "      <td>https://scontent.fdac134-1.fna.fbcdn.net/v/t39...</td>\n",
       "      <td>Md Minhajul Islam</td>\n",
       "      <td>কত</td>\n",
       "      <td>https://www.facebook.com/digitalproductsbangla...</td>\n",
       "      <td>0</td>\n",
       "      <td>0</td>\n",
       "      <td>1</td>\n",
       "      <td>06/05/2024 02:52:02 PM</td>\n",
       "    </tr>\n",
       "    <tr>\n",
       "      <th>1</th>\n",
       "      <td>Y29tbWVudDozOTU0NjQ4NjM0OTAzODJfODQ0MDQ0NTU0Mj...</td>\n",
       "      <td>1.000401e+14</td>\n",
       "      <td>https://scontent.fdac134-1.fna.fbcdn.net/v/t39...</td>\n",
       "      <td>Kazi Siratul Mostakim</td>\n",
       "      <td>Brilliant  learning app share price?</td>\n",
       "      <td>https://www.facebook.com/digitalproductsbangla...</td>\n",
       "      <td>1</td>\n",
       "      <td>0</td>\n",
       "      <td>0</td>\n",
       "      <td>06/06/2024 07:39:45 PM</td>\n",
       "    </tr>\n",
       "    <tr>\n",
       "      <th>2</th>\n",
       "      <td>Y29tbWVudDozOTU0NjQ4NjM0OTAzODJfMTU3NTc2NTAzNj...</td>\n",
       "      <td>1.000137e+14</td>\n",
       "      <td>https://scontent.fdac134-1.fna.fbcdn.net/v/t39...</td>\n",
       "      <td>Nehal Anas</td>\n",
       "      <td>Lightroom premium price?</td>\n",
       "      <td>https://www.facebook.com/digitalproductsbangla...</td>\n",
       "      <td>0</td>\n",
       "      <td>0</td>\n",
       "      <td>1</td>\n",
       "      <td>06/09/2024 06:40:53 PM</td>\n",
       "    </tr>\n",
       "    <tr>\n",
       "      <th>3</th>\n",
       "      <td>Y29tbWVudDozOTU0NjQ4NjM0OTAzODJfMTE3NzMxODEyNz...</td>\n",
       "      <td>1.000075e+14</td>\n",
       "      <td>https://scontent.fdac134-1.fna.fbcdn.net/v/t39...</td>\n",
       "      <td>Rahmot Hossain Niaz</td>\n",
       "      <td>vi envato elements price koto?</td>\n",
       "      <td>https://www.facebook.com/digitalproductsbangla...</td>\n",
       "      <td>1</td>\n",
       "      <td>0</td>\n",
       "      <td>1</td>\n",
       "      <td>06/10/2024 09:53:42 AM</td>\n",
       "    </tr>\n",
       "    <tr>\n",
       "      <th>4</th>\n",
       "      <td>Y29tbWVudDozOTU0NjQ4NjM0OTAzODJfMTE4NTIyOTkwMj...</td>\n",
       "      <td>1.000071e+14</td>\n",
       "      <td>https://scontent.fdac134-1.fna.fbcdn.net/v/t39...</td>\n",
       "      <td>Rehdoy Hasan</td>\n",
       "      <td>wellsaid labs Ai Voice lab</td>\n",
       "      <td>https://www.facebook.com/digitalproductsbangla...</td>\n",
       "      <td>1</td>\n",
       "      <td>0</td>\n",
       "      <td>2</td>\n",
       "      <td>06/10/2024 10:03:43 AM</td>\n",
       "    </tr>\n",
       "  </tbody>\n",
       "</table>\n",
       "</div>"
      ],
      "text/plain": [
       "                                                  Id        UserId  \\\n",
       "0  Y29tbWVudDozOTU0NjQ4NjM0OTAzODJfODI4MDk1ODcyMD...  1.000797e+14   \n",
       "1  Y29tbWVudDozOTU0NjQ4NjM0OTAzODJfODQ0MDQ0NTU0Mj...  1.000401e+14   \n",
       "2  Y29tbWVudDozOTU0NjQ4NjM0OTAzODJfMTU3NTc2NTAzNj...  1.000137e+14   \n",
       "3  Y29tbWVudDozOTU0NjQ4NjM0OTAzODJfMTE3NzMxODEyNz...  1.000075e+14   \n",
       "4  Y29tbWVudDozOTU0NjQ4NjM0OTAzODJfMTE4NTIyOTkwMj...  1.000071e+14   \n",
       "\n",
       "                                              Avatar                 Author  \\\n",
       "0  https://scontent.fdac134-1.fna.fbcdn.net/v/t39...      Md Minhajul Islam   \n",
       "1  https://scontent.fdac134-1.fna.fbcdn.net/v/t39...  Kazi Siratul Mostakim   \n",
       "2  https://scontent.fdac134-1.fna.fbcdn.net/v/t39...             Nehal Anas   \n",
       "3  https://scontent.fdac134-1.fna.fbcdn.net/v/t39...    Rahmot Hossain Niaz   \n",
       "4  https://scontent.fdac134-1.fna.fbcdn.net/v/t39...           Rehdoy Hasan   \n",
       "\n",
       "                                Content  \\\n",
       "0                                    কত   \n",
       "1  Brilliant  learning app share price?   \n",
       "2              Lightroom premium price?   \n",
       "3        vi envato elements price koto?   \n",
       "4            wellsaid labs Ai Voice lab   \n",
       "\n",
       "                                                 Url  ReactionsCount  Depth  \\\n",
       "0  https://www.facebook.com/digitalproductsbangla...               0      0   \n",
       "1  https://www.facebook.com/digitalproductsbangla...               1      0   \n",
       "2  https://www.facebook.com/digitalproductsbangla...               0      0   \n",
       "3  https://www.facebook.com/digitalproductsbangla...               1      0   \n",
       "4  https://www.facebook.com/digitalproductsbangla...               1      0   \n",
       "\n",
       "   SubCommentsCount               CommentAt  \n",
       "0                 1  06/05/2024 02:52:02 PM  \n",
       "1                 0  06/06/2024 07:39:45 PM  \n",
       "2                 1  06/09/2024 06:40:53 PM  \n",
       "3                 1  06/10/2024 09:53:42 AM  \n",
       "4                 2  06/10/2024 10:03:43 AM  "
      ]
     },
     "execution_count": 13,
     "metadata": {},
     "output_type": "execute_result"
    }
   ],
   "source": [
    "comment_data.head( )"
   ]
  },
  {
   "cell_type": "code",
   "execution_count": 14,
   "metadata": {},
   "outputs": [
    {
     "data": {
      "text/plain": [
       "(1982, 10)"
      ]
     },
     "execution_count": 14,
     "metadata": {},
     "output_type": "execute_result"
    }
   ],
   "source": [
    "comment_data.shape"
   ]
  },
  {
   "cell_type": "code",
   "execution_count": 15,
   "metadata": {},
   "outputs": [],
   "source": [
    "comment_data.to_csv('output.csv', index=False)"
   ]
  },
  {
   "cell_type": "code",
   "execution_count": null,
   "metadata": {},
   "outputs": [],
   "source": []
  }
 ],
 "metadata": {
  "kernelspec": {
   "display_name": "Python 3",
   "language": "python",
   "name": "python3"
  },
  "language_info": {
   "codemirror_mode": {
    "name": "ipython",
    "version": 3
   },
   "file_extension": ".py",
   "mimetype": "text/x-python",
   "name": "python",
   "nbconvert_exporter": "python",
   "pygments_lexer": "ipython3",
   "version": "3.12.6"
  }
 },
 "nbformat": 4,
 "nbformat_minor": 2
}
